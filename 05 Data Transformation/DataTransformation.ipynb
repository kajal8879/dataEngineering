{
 "cells": [
  {
   "cell_type": "code",
   "execution_count": 2,
   "id": "922853a5",
   "metadata": {},
   "outputs": [
    {
     "name": "stdout",
     "output_type": "stream",
     "text": [
      "     EVENT_NO_TRIP            OPD_DATE  VEHICLE_ID  METERS  ACT_TIME  \\\n",
      "0        259172515  15FEB2023:00:00:00        4223      40     20469   \n",
      "1        259172515  15FEB2023:00:00:00        4223      48     20474   \n",
      "2        259172515  15FEB2023:00:00:00        4223      57     20479   \n",
      "3        259172515  15FEB2023:00:00:00        4223      73     20484   \n",
      "4        259172515  15FEB2023:00:00:00        4223     112     20489   \n",
      "..             ...                 ...         ...     ...       ...   \n",
      "156      259172515  15FEB2023:00:00:00        4223    5834     21389   \n",
      "157      259172515  15FEB2023:00:00:00        4223    5838     21424   \n",
      "158      259172515  15FEB2023:00:00:00        4223    5858     21429   \n",
      "159      259172515  15FEB2023:00:00:00        4223    5889     21434   \n",
      "160      259172515  15FEB2023:00:00:00        4223    5918     21439   \n",
      "\n",
      "     GPS_LONGITUDE  GPS_LATITUDE  \n",
      "0      -122.648137     45.493082  \n",
      "1      -122.648240     45.493070  \n",
      "2      -122.648352     45.493123  \n",
      "3      -122.648385     45.493262  \n",
      "4      -122.648347     45.493582  \n",
      "..             ...           ...  \n",
      "156    -122.677057     45.528040  \n",
      "157    -122.677003     45.528037  \n",
      "158    -122.676765     45.528043  \n",
      "159    -122.676370     45.528047  \n",
      "160    -122.675990     45.528065  \n",
      "\n",
      "[161 rows x 7 columns]\n"
     ]
    },
    {
     "data": {
      "text/plain": [
       "count   160.00\n",
       "mean      7.23\n",
       "std       4.42\n",
       "min       0.00\n",
       "25%       3.80\n",
       "50%       6.40\n",
       "75%      10.85\n",
       "max      17.40\n",
       "Name: speed, dtype: float64"
      ]
     },
     "execution_count": 2,
     "metadata": {},
     "output_type": "execute_result"
    }
   ],
   "source": [
    "import pandas as pd\n",
    "import datetime\n",
    "import math\n",
    "\n",
    "#df = pd.read_csv('bc_trip.csv')\n",
    "#df=df.drop(columns=['EVENT_NO_STOP'])\n",
    "df=pd.read_csv('bc_trip.csv', usecols=['EVENT_NO_TRIP', 'OPD_DATE','VEHICLE_ID','METERS','ACT_TIME','GPS_LONGITUDE','GPS_LATITUDE'])\n",
    "print(df)\n",
    "df2=pd.DataFrame(data=df,columns = ['OPD_DATE'])\n",
    "\n",
    "def getDecodedtDate(date):\n",
    "    dt = datetime.datetime.strptime(date, \"%d%b%Y:%H:%M:%S\")\n",
    "    return dt;\n",
    "df2 = df2.applymap(getDecodedtDate)\n",
    "df2= df2.rename(columns={'OPD_DATE': 'Date'})\n",
    "\n",
    "\n",
    "df3=pd.DataFrame(data=df,columns = ['ACT_TIME'])\n",
    "def getTimeStamp(time):\n",
    "    ts=datetime.timedelta(seconds=time)\n",
    "    return ts;\n",
    "df3=df3.applymap(getTimeStamp)\n",
    "df3= df3.rename(columns={'ACT_TIME': 'Time'})\n",
    "\n",
    "df4 = pd.concat([df2, df3], axis=1)\n",
    "\n",
    "df4 = df4.assign(DateTimeStamp = df4['Date'] + df4['Time'])\n",
    "df['DateTimeStamp'] = pd.Series(df4['DateTimeStamp'])\n",
    " \n",
    "# save the difference column to the dataframe\n",
    "\n",
    "df['dMETERS'] = df.groupby('EVENT_NO_TRIP')['METERS'].diff()\n",
    "\n",
    "df['dDateTimeStamp'] = df.groupby('EVENT_NO_TRIP')['DateTimeStamp'].diff()\n",
    "calculateSpeed=  lambda x: round(x['dMETERS'] / x['dDateTimeStamp'].total_seconds(), 2) if not math.isnan(x['dMETERS']) and not math.isnan(x['dDateTimeStamp'].total_seconds()) else None\n",
    "df['speed']=df.apply(calculateSpeed,axis=1)\n",
    "df=df.drop(columns=['dMETERS','dDateTimeStamp'])\n",
    "pd.set_option('display.float_format', '{:.2f}'.format)\n",
    "df['speed'].describe()\n",
    "#df.groupby('VEHICLE_ID')['speed'].describe()\n",
    "\n",
    "#print(df.loc[df['speed'].idxmax()])\n",
    "\n",
    "#print(df.groupby('VEHICLE_ID')['speed'].mean().idxmax())\n",
    "\n"
   ]
  },
  {
   "cell_type": "code",
   "execution_count": null,
   "id": "57778e71",
   "metadata": {},
   "outputs": [],
   "source": []
  },
  {
   "cell_type": "code",
   "execution_count": null,
   "id": "1ea9db39",
   "metadata": {},
   "outputs": [],
   "source": []
  }
 ],
 "metadata": {
  "kernelspec": {
   "display_name": "Python 3 (ipykernel)",
   "language": "python",
   "name": "python3"
  },
  "language_info": {
   "codemirror_mode": {
    "name": "ipython",
    "version": 3
   },
   "file_extension": ".py",
   "mimetype": "text/x-python",
   "name": "python",
   "nbconvert_exporter": "python",
   "pygments_lexer": "ipython3",
   "version": "3.9.13"
  }
 },
 "nbformat": 4,
 "nbformat_minor": 5
}
